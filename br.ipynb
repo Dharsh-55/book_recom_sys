{
 "cells": [
  {
   "cell_type": "code",
   "execution_count": 94,
   "id": "967a6cf3",
   "metadata": {},
   "outputs": [],
   "source": [
    "import pandas as pd\n",
    "import numpy as np"
   ]
  },
  {
   "cell_type": "code",
   "execution_count": 95,
   "id": "c5f27e0b",
   "metadata": {},
   "outputs": [
    {
     "name": "stdout",
     "output_type": "stream",
     "text": [
      "<class 'pandas.core.frame.DataFrame'>\n",
      "RangeIndex: 7928 entries, 0 to 7927\n",
      "Data columns (total 9 columns):\n",
      " #   Column               Non-Null Count  Dtype  \n",
      "---  ------               --------------  -----  \n",
      " 0   Title                7928 non-null   object \n",
      " 1   Author               7907 non-null   object \n",
      " 2   Main Genre           7928 non-null   object \n",
      " 3   Sub Genre            7928 non-null   object \n",
      " 4   Type                 7928 non-null   object \n",
      " 5   Price                7928 non-null   object \n",
      " 6   Rating               7928 non-null   float64\n",
      " 7   No. of People rated  7928 non-null   int64  \n",
      " 8   URLs                 7928 non-null   object \n",
      "dtypes: float64(1), int64(1), object(7)\n",
      "memory usage: 557.6+ KB\n"
     ]
    }
   ],
   "source": [
    "data = pd.read_csv(\"C:\\\\Users\\\\Admin\\\\Desktop\\\\3rd sem\\\\book_recom_sys\\\\initial_dataset.csv\")\n",
    "data.info()"
   ]
  },
  {
   "cell_type": "code",
   "execution_count": 96,
   "id": "d552abaf",
   "metadata": {},
   "outputs": [],
   "source": [
    "from sklearn.model_selection import train_test_split\n",
    "from sklearn.linear_model import LogisticRegression\n",
    "from sklearn.pipeline import Pipeline\n",
    "from sklearn.metrics import accuracy_score,  classification_report, confusion_matrix, ConfusionMatrixDisplay\n",
    "from sklearn.feature_extraction.text import TfidfVectorizer"
   ]
  },
  {
   "cell_type": "code",
   "execution_count": 97,
   "id": "c45de333",
   "metadata": {},
   "outputs": [],
   "source": [
    "#dropping the records with NULL author\n",
    "d = data.dropna()\n",
    "#dropping unwanted fields\n",
    "d = data.drop(['URLs', 'Price', 'Type'], axis=1)\n",
    "d.to_csv('processed_dataset')"
   ]
  },
  {
   "cell_type": "code",
   "execution_count": 98,
   "id": "ca8663d8",
   "metadata": {},
   "outputs": [
    {
     "data": {
      "text/plain": [
       "array(['The Complete Novel of Sherlock Holmes Cinema & Broadcast',\n",
       "       'Black Holes (L) : The Reith Lectures [Paperback] Hawking, Stephen Cinema & Broadcast',\n",
       "       'The Kite Runner Cinema & Broadcast', ...,\n",
       "       'Eyewitness Travel Phrase Book French (EW Travel Guide Phrase Books) Travel & Holiday Guides',\n",
       "       'Lonely Planet Australia (Travel Guide) Travel & Holiday Guides',\n",
       "       'Political Map of India Latest Map of India With The Two New Union Territories of Jammu and Kashmir And Ladakh 30 Inches X 20 Inches Travel & Holiday Guides'],\n",
       "      dtype=object)"
      ]
     },
     "execution_count": 98,
     "metadata": {},
     "output_type": "execute_result"
    }
   ],
   "source": [
    "#d - is the processed_dataset to be used\n",
    "x = (d['Title'] + \" \" + d['Sub Genre']).values\n",
    "x"
   ]
  },
  {
   "cell_type": "code",
   "execution_count": 99,
   "id": "76c66b29",
   "metadata": {
    "scrolled": true
   },
   "outputs": [
    {
     "data": {
      "text/html": [
       "<style>#sk-container-id-7 {color: black;}#sk-container-id-7 pre{padding: 0;}#sk-container-id-7 div.sk-toggleable {background-color: white;}#sk-container-id-7 label.sk-toggleable__label {cursor: pointer;display: block;width: 100%;margin-bottom: 0;padding: 0.3em;box-sizing: border-box;text-align: center;}#sk-container-id-7 label.sk-toggleable__label-arrow:before {content: \"▸\";float: left;margin-right: 0.25em;color: #696969;}#sk-container-id-7 label.sk-toggleable__label-arrow:hover:before {color: black;}#sk-container-id-7 div.sk-estimator:hover label.sk-toggleable__label-arrow:before {color: black;}#sk-container-id-7 div.sk-toggleable__content {max-height: 0;max-width: 0;overflow: hidden;text-align: left;background-color: #f0f8ff;}#sk-container-id-7 div.sk-toggleable__content pre {margin: 0.2em;color: black;border-radius: 0.25em;background-color: #f0f8ff;}#sk-container-id-7 input.sk-toggleable__control:checked~div.sk-toggleable__content {max-height: 200px;max-width: 100%;overflow: auto;}#sk-container-id-7 input.sk-toggleable__control:checked~label.sk-toggleable__label-arrow:before {content: \"▾\";}#sk-container-id-7 div.sk-estimator input.sk-toggleable__control:checked~label.sk-toggleable__label {background-color: #d4ebff;}#sk-container-id-7 div.sk-label input.sk-toggleable__control:checked~label.sk-toggleable__label {background-color: #d4ebff;}#sk-container-id-7 input.sk-hidden--visually {border: 0;clip: rect(1px 1px 1px 1px);clip: rect(1px, 1px, 1px, 1px);height: 1px;margin: -1px;overflow: hidden;padding: 0;position: absolute;width: 1px;}#sk-container-id-7 div.sk-estimator {font-family: monospace;background-color: #f0f8ff;border: 1px dotted black;border-radius: 0.25em;box-sizing: border-box;margin-bottom: 0.5em;}#sk-container-id-7 div.sk-estimator:hover {background-color: #d4ebff;}#sk-container-id-7 div.sk-parallel-item::after {content: \"\";width: 100%;border-bottom: 1px solid gray;flex-grow: 1;}#sk-container-id-7 div.sk-label:hover label.sk-toggleable__label {background-color: #d4ebff;}#sk-container-id-7 div.sk-serial::before {content: \"\";position: absolute;border-left: 1px solid gray;box-sizing: border-box;top: 0;bottom: 0;left: 50%;z-index: 0;}#sk-container-id-7 div.sk-serial {display: flex;flex-direction: column;align-items: center;background-color: white;padding-right: 0.2em;padding-left: 0.2em;position: relative;}#sk-container-id-7 div.sk-item {position: relative;z-index: 1;}#sk-container-id-7 div.sk-parallel {display: flex;align-items: stretch;justify-content: center;background-color: white;position: relative;}#sk-container-id-7 div.sk-item::before, #sk-container-id-7 div.sk-parallel-item::before {content: \"\";position: absolute;border-left: 1px solid gray;box-sizing: border-box;top: 0;bottom: 0;left: 50%;z-index: -1;}#sk-container-id-7 div.sk-parallel-item {display: flex;flex-direction: column;z-index: 1;position: relative;background-color: white;}#sk-container-id-7 div.sk-parallel-item:first-child::after {align-self: flex-end;width: 50%;}#sk-container-id-7 div.sk-parallel-item:last-child::after {align-self: flex-start;width: 50%;}#sk-container-id-7 div.sk-parallel-item:only-child::after {width: 0;}#sk-container-id-7 div.sk-dashed-wrapped {border: 1px dashed gray;margin: 0 0.4em 0.5em 0.4em;box-sizing: border-box;padding-bottom: 0.4em;background-color: white;}#sk-container-id-7 div.sk-label label {font-family: monospace;font-weight: bold;display: inline-block;line-height: 1.2em;}#sk-container-id-7 div.sk-label-container {text-align: center;}#sk-container-id-7 div.sk-container {/* jupyter's `normalize.less` sets `[hidden] { display: none; }` but bootstrap.min.css set `[hidden] { display: none !important; }` so we also need the `!important` here to be able to override the default hidden behavior on the sphinx rendered scikit-learn.org. See: https://github.com/scikit-learn/scikit-learn/issues/21755 */display: inline-block !important;position: relative;}#sk-container-id-7 div.sk-text-repr-fallback {display: none;}</style><div id=\"sk-container-id-7\" class=\"sk-top-container\"><div class=\"sk-text-repr-fallback\"><pre>Pipeline(steps=[(&#x27;tf_idf&#x27;,\n",
       "                 TfidfVectorizer(max_features=8000, ngram_range=(1, 8),\n",
       "                                 stop_words=&#x27;english&#x27;)),\n",
       "                (&#x27;logit&#x27;,\n",
       "                 LogisticRegression(C=0.5, random_state=55,\n",
       "                                    solver=&#x27;liblinear&#x27;))])</pre><b>In a Jupyter environment, please rerun this cell to show the HTML representation or trust the notebook. <br />On GitHub, the HTML representation is unable to render, please try loading this page with nbviewer.org.</b></div><div class=\"sk-container\" hidden><div class=\"sk-item sk-dashed-wrapped\"><div class=\"sk-label-container\"><div class=\"sk-label sk-toggleable\"><input class=\"sk-toggleable__control sk-hidden--visually\" id=\"sk-estimator-id-19\" type=\"checkbox\" ><label for=\"sk-estimator-id-19\" class=\"sk-toggleable__label sk-toggleable__label-arrow\">Pipeline</label><div class=\"sk-toggleable__content\"><pre>Pipeline(steps=[(&#x27;tf_idf&#x27;,\n",
       "                 TfidfVectorizer(max_features=8000, ngram_range=(1, 8),\n",
       "                                 stop_words=&#x27;english&#x27;)),\n",
       "                (&#x27;logit&#x27;,\n",
       "                 LogisticRegression(C=0.5, random_state=55,\n",
       "                                    solver=&#x27;liblinear&#x27;))])</pre></div></div></div><div class=\"sk-serial\"><div class=\"sk-item\"><div class=\"sk-estimator sk-toggleable\"><input class=\"sk-toggleable__control sk-hidden--visually\" id=\"sk-estimator-id-20\" type=\"checkbox\" ><label for=\"sk-estimator-id-20\" class=\"sk-toggleable__label sk-toggleable__label-arrow\">TfidfVectorizer</label><div class=\"sk-toggleable__content\"><pre>TfidfVectorizer(max_features=8000, ngram_range=(1, 8), stop_words=&#x27;english&#x27;)</pre></div></div></div><div class=\"sk-item\"><div class=\"sk-estimator sk-toggleable\"><input class=\"sk-toggleable__control sk-hidden--visually\" id=\"sk-estimator-id-21\" type=\"checkbox\" ><label for=\"sk-estimator-id-21\" class=\"sk-toggleable__label sk-toggleable__label-arrow\">LogisticRegression</label><div class=\"sk-toggleable__content\"><pre>LogisticRegression(C=0.5, random_state=55, solver=&#x27;liblinear&#x27;)</pre></div></div></div></div></div></div></div>"
      ],
      "text/plain": [
       "Pipeline(steps=[('tf_idf',\n",
       "                 TfidfVectorizer(max_features=8000, ngram_range=(1, 8),\n",
       "                                 stop_words='english')),\n",
       "                ('logit',\n",
       "                 LogisticRegression(C=0.5, random_state=55,\n",
       "                                    solver='liblinear'))])"
      ]
     },
     "execution_count": 99,
     "metadata": {},
     "output_type": "execute_result"
    }
   ],
   "source": [
    "#pipeline_creation\n",
    "\n",
    "tf_idf = TfidfVectorizer(stop_words = 'english', ngram_range = (1, 8), max_features = 8000)\n",
    "x_tr, x_ts, y_tr, y_ts = train_test_split(x, d['Main Genre'])\n",
    "logit = LogisticRegression(C = 0.5 , penalty = 'l2', solver = 'liblinear', random_state = 55)\n",
    "pipe = Pipeline([('tf_idf', tf_idf), ('logit', logit)])\n",
    "pipe.fit(x_tr, y_tr)"
   ]
  },
  {
   "cell_type": "code",
   "execution_count": 100,
   "id": "45b24744",
   "metadata": {},
   "outputs": [
    {
     "data": {
      "text/plain": [
       "array(['The Story of Ruth: An Amish Romance (Amish Inspiration Book 1) Amish',\n",
       "       'Finding my Home... Collections & Anthologies',\n",
       "       'When the Night Closes In (The Hellion Club) Holidays', ...,\n",
       "       '101 Copy Coloring: Fun Activity Book For Children Interactive & Activity Books',\n",
       "       'Savior of the Domini (Mates of the Domini Book 1) Science Fiction',\n",
       "       'When She Unravels: A Dark Mafia Romance (The Fallen Book 1) Action & Adventure'],\n",
       "      dtype=object)"
      ]
     },
     "execution_count": 100,
     "metadata": {},
     "output_type": "execute_result"
    }
   ],
   "source": [
    "x_ts"
   ]
  },
  {
   "cell_type": "code",
   "execution_count": 101,
   "id": "79caa526",
   "metadata": {},
   "outputs": [
    {
     "data": {
      "text/plain": [
       "array(['Romance', 'Romance', 'Romance', ..., \"Children's Books\",\n",
       "       'Romance', 'Romance'], dtype=object)"
      ]
     },
     "execution_count": 101,
     "metadata": {},
     "output_type": "execute_result"
    }
   ],
   "source": [
    "y_pred = pipe.predict(x_ts)\n",
    "y_pred"
   ]
  },
  {
   "cell_type": "code",
   "execution_count": 102,
   "id": "5e74939c",
   "metadata": {},
   "outputs": [
    {
     "name": "stdout",
     "output_type": "stream",
     "text": [
      "accuracy:  0.8975782038345106\n",
      "\n",
      "classification report:                                         precision    recall  f1-score   support\n",
      "\n",
      "             Arts, Film & Photography       1.00      0.94      0.97        51\n",
      " Biographies, Diaries & True Accounts       0.64      0.57      0.60        28\n",
      "                 Business & Economics       1.00      0.92      0.96        36\n",
      "                     Children's Books       0.79      0.97      0.87       357\n",
      "                      Comics & Mangas       1.00      0.86      0.92        28\n",
      "  Computing, Internet & Digital Media       0.86      0.97      0.91        87\n",
      "             Crafts, Home & Lifestyle       1.00      0.92      0.96        75\n",
      "            Crime, Thriller & Mystery       1.00      0.86      0.92        14\n",
      "                          Engineering       1.00      1.00      1.00        13\n",
      "                     Exam Preparation       1.00      1.00      1.00        41\n",
      "    Fantasy, Horror & Science Fiction       1.00      0.50      0.67        20\n",
      "Health, Family & Personal Development       1.00      0.96      0.98        25\n",
      "           Higher Education Textbooks       0.98      0.73      0.83        55\n",
      "                              History       0.57      0.39      0.46        31\n",
      "      Language, Linguistics & Writing       1.00      0.73      0.84        11\n",
      "                                  Law       1.00      0.89      0.94         9\n",
      "                 Literature & Fiction       0.96      0.89      0.92        96\n",
      "           Medicine & Health Sciences       0.98      0.94      0.96        52\n",
      "                             Politics       1.00      1.00      1.00        29\n",
      "                            Reference       1.00      0.80      0.89        49\n",
      "                             Religion       0.96      0.90      0.93        73\n",
      "                              Romance       0.89      0.97      0.93       273\n",
      "                         School Books       1.00      0.97      0.98        29\n",
      "                Science & Mathematics       0.89      0.52      0.66        46\n",
      "      Sciences, Technology & Medicine       0.69      0.85      0.76        53\n",
      "            Society & Social Sciences       1.00      0.91      0.95        46\n",
      "                               Sports       0.98      1.00      0.99       236\n",
      "                   Teen & Young Adult       0.90      0.62      0.73        98\n",
      "             Textbooks & Study Guides       1.00      1.00      1.00         8\n",
      "                               Travel       1.00      0.92      0.96        13\n",
      "\n",
      "                             accuracy                           0.90      1982\n",
      "                            macro avg       0.94      0.85      0.88      1982\n",
      "                         weighted avg       0.90      0.90      0.89      1982\n",
      "\n"
     ]
    }
   ],
   "source": [
    "acc = accuracy_score(y_ts, y_pred)\n",
    "clasf = classification_report(y_ts, y_pred)\n",
    "\n",
    "print(\"accuracy: \", acc)\n",
    "print(\"\\nclassification report: \", clasf)"
   ]
  },
  {
   "cell_type": "code",
   "execution_count": 103,
   "id": "d4a2c213",
   "metadata": {},
   "outputs": [],
   "source": [
    "import pickle\n",
    "pkl_file = \"br.pkl\"  \n",
    "\n",
    "with open(pkl_file, 'wb') as file:  \n",
    "    pickle.dump(pipe, file)"
   ]
  },
  {
   "cell_type": "code",
   "execution_count": 104,
   "id": "d2934226",
   "metadata": {},
   "outputs": [
    {
     "data": {
      "text/html": [
       "<div>\n",
       "<style scoped>\n",
       "    .dataframe tbody tr th:only-of-type {\n",
       "        vertical-align: middle;\n",
       "    }\n",
       "\n",
       "    .dataframe tbody tr th {\n",
       "        vertical-align: top;\n",
       "    }\n",
       "\n",
       "    .dataframe thead th {\n",
       "        text-align: right;\n",
       "    }\n",
       "</style>\n",
       "<table border=\"1\" class=\"dataframe\">\n",
       "  <thead>\n",
       "    <tr style=\"text-align: right;\">\n",
       "      <th></th>\n",
       "      <th></th>\n",
       "      <th>Title</th>\n",
       "      <th>Author</th>\n",
       "      <th>Rating</th>\n",
       "      <th>No. of People rated</th>\n",
       "    </tr>\n",
       "    <tr>\n",
       "      <th>Main Genre</th>\n",
       "      <th>Sub Genre</th>\n",
       "      <th></th>\n",
       "      <th></th>\n",
       "      <th></th>\n",
       "      <th></th>\n",
       "    </tr>\n",
       "  </thead>\n",
       "  <tbody>\n",
       "    <tr>\n",
       "      <th rowspan=\"4\" valign=\"top\">Arts, Film &amp; Photography</th>\n",
       "      <th>Cinema &amp; Broadcast</th>\n",
       "      <td>50</td>\n",
       "      <td>50</td>\n",
       "      <td>50</td>\n",
       "      <td>50</td>\n",
       "    </tr>\n",
       "    <tr>\n",
       "      <th>Music</th>\n",
       "      <td>50</td>\n",
       "      <td>50</td>\n",
       "      <td>50</td>\n",
       "      <td>50</td>\n",
       "    </tr>\n",
       "    <tr>\n",
       "      <th>Theater &amp; Ballet</th>\n",
       "      <td>50</td>\n",
       "      <td>50</td>\n",
       "      <td>50</td>\n",
       "      <td>50</td>\n",
       "    </tr>\n",
       "    <tr>\n",
       "      <th>Theory &amp; Criticism</th>\n",
       "      <td>50</td>\n",
       "      <td>50</td>\n",
       "      <td>50</td>\n",
       "      <td>50</td>\n",
       "    </tr>\n",
       "    <tr>\n",
       "      <th>Biographies, Diaries &amp; True Accounts</th>\n",
       "      <th>Biographies &amp; Autobiographies</th>\n",
       "      <td>50</td>\n",
       "      <td>50</td>\n",
       "      <td>50</td>\n",
       "      <td>50</td>\n",
       "    </tr>\n",
       "    <tr>\n",
       "      <th>...</th>\n",
       "      <th>...</th>\n",
       "      <td>...</td>\n",
       "      <td>...</td>\n",
       "      <td>...</td>\n",
       "      <td>...</td>\n",
       "    </tr>\n",
       "    <tr>\n",
       "      <th rowspan=\"3\" valign=\"top\">Teen &amp; Young Adult</th>\n",
       "      <th>Romance</th>\n",
       "      <td>50</td>\n",
       "      <td>49</td>\n",
       "      <td>50</td>\n",
       "      <td>50</td>\n",
       "    </tr>\n",
       "    <tr>\n",
       "      <th>Science Fiction &amp; Fantasy</th>\n",
       "      <td>50</td>\n",
       "      <td>50</td>\n",
       "      <td>50</td>\n",
       "      <td>50</td>\n",
       "    </tr>\n",
       "    <tr>\n",
       "      <th>Social &amp; Family Issues</th>\n",
       "      <td>50</td>\n",
       "      <td>50</td>\n",
       "      <td>50</td>\n",
       "      <td>50</td>\n",
       "    </tr>\n",
       "    <tr>\n",
       "      <th>Textbooks &amp; Study Guides</th>\n",
       "      <th>Study Guides &amp; Workbooks</th>\n",
       "      <td>50</td>\n",
       "      <td>50</td>\n",
       "      <td>50</td>\n",
       "      <td>50</td>\n",
       "    </tr>\n",
       "    <tr>\n",
       "      <th>Travel</th>\n",
       "      <th>Travel &amp; Holiday Guides</th>\n",
       "      <td>50</td>\n",
       "      <td>50</td>\n",
       "      <td>50</td>\n",
       "      <td>50</td>\n",
       "    </tr>\n",
       "  </tbody>\n",
       "</table>\n",
       "<p>161 rows × 4 columns</p>\n",
       "</div>"
      ],
      "text/plain": [
       "                                                                    Title  \\\n",
       "Main Genre                           Sub Genre                              \n",
       "Arts, Film & Photography             Cinema & Broadcast                50   \n",
       "                                     Music                             50   \n",
       "                                     Theater & Ballet                  50   \n",
       "                                     Theory & Criticism                50   \n",
       "Biographies, Diaries & True Accounts Biographies & Autobiographies     50   \n",
       "...                                                                   ...   \n",
       "Teen & Young Adult                   Romance                           50   \n",
       "                                     Science Fiction & Fantasy         50   \n",
       "                                     Social & Family Issues            50   \n",
       "Textbooks & Study Guides             Study Guides & Workbooks          50   \n",
       "Travel                               Travel & Holiday Guides           50   \n",
       "\n",
       "                                                                    Author  \\\n",
       "Main Genre                           Sub Genre                               \n",
       "Arts, Film & Photography             Cinema & Broadcast                 50   \n",
       "                                     Music                              50   \n",
       "                                     Theater & Ballet                   50   \n",
       "                                     Theory & Criticism                 50   \n",
       "Biographies, Diaries & True Accounts Biographies & Autobiographies      50   \n",
       "...                                                                    ...   \n",
       "Teen & Young Adult                   Romance                            49   \n",
       "                                     Science Fiction & Fantasy          50   \n",
       "                                     Social & Family Issues             50   \n",
       "Textbooks & Study Guides             Study Guides & Workbooks           50   \n",
       "Travel                               Travel & Holiday Guides            50   \n",
       "\n",
       "                                                                    Rating  \\\n",
       "Main Genre                           Sub Genre                               \n",
       "Arts, Film & Photography             Cinema & Broadcast                 50   \n",
       "                                     Music                              50   \n",
       "                                     Theater & Ballet                   50   \n",
       "                                     Theory & Criticism                 50   \n",
       "Biographies, Diaries & True Accounts Biographies & Autobiographies      50   \n",
       "...                                                                    ...   \n",
       "Teen & Young Adult                   Romance                            50   \n",
       "                                     Science Fiction & Fantasy          50   \n",
       "                                     Social & Family Issues             50   \n",
       "Textbooks & Study Guides             Study Guides & Workbooks           50   \n",
       "Travel                               Travel & Holiday Guides            50   \n",
       "\n",
       "                                                                    No. of People rated  \n",
       "Main Genre                           Sub Genre                                           \n",
       "Arts, Film & Photography             Cinema & Broadcast                              50  \n",
       "                                     Music                                           50  \n",
       "                                     Theater & Ballet                                50  \n",
       "                                     Theory & Criticism                              50  \n",
       "Biographies, Diaries & True Accounts Biographies & Autobiographies                   50  \n",
       "...                                                                                 ...  \n",
       "Teen & Young Adult                   Romance                                         50  \n",
       "                                     Science Fiction & Fantasy                       50  \n",
       "                                     Social & Family Issues                          50  \n",
       "Textbooks & Study Guides             Study Guides & Workbooks                        50  \n",
       "Travel                               Travel & Holiday Guides                         50  \n",
       "\n",
       "[161 rows x 4 columns]"
      ]
     },
     "execution_count": 104,
     "metadata": {},
     "output_type": "execute_result"
    }
   ],
   "source": [
    "d2 = d.groupby(['Main Genre', 'Sub Genre']).count()\n",
    "d2.to_csv('grouped data br.csv')\n",
    "d2"
   ]
  },
  {
   "cell_type": "code",
   "execution_count": 105,
   "id": "17b31120",
   "metadata": {},
   "outputs": [
    {
     "data": {
      "text/plain": [
       "{0: 'Arts, Film & Photography',\n",
       " 1: 'Biographies, Diaries & True Accounts',\n",
       " 2: 'Business & Economics',\n",
       " 3: \"Children's Books\",\n",
       " 4: 'Comics & Mangas',\n",
       " 5: 'Computing, Internet & Digital Media',\n",
       " 6: 'Crafts, Home & Lifestyle',\n",
       " 7: 'Crime, Thriller & Mystery',\n",
       " 8: 'Engineering',\n",
       " 9: 'Exam Preparation',\n",
       " 10: 'Fantasy, Horror & Science Fiction',\n",
       " 11: 'Health, Family & Personal Development',\n",
       " 12: 'Higher Education Textbooks',\n",
       " 13: 'History',\n",
       " 14: 'Language, Linguistics & Writing',\n",
       " 15: 'Law',\n",
       " 16: 'Literature & Fiction',\n",
       " 17: 'Medicine & Health Sciences',\n",
       " 18: 'Politics',\n",
       " 19: 'Reference',\n",
       " 20: 'Religion',\n",
       " 21: 'Romance',\n",
       " 22: 'School Books',\n",
       " 23: 'Science & Mathematics',\n",
       " 24: 'Sciences, Technology & Medicine',\n",
       " 25: 'Society & Social Sciences',\n",
       " 26: 'Sports',\n",
       " 27: 'Teen & Young Adult',\n",
       " 28: 'Textbooks & Study Guides',\n",
       " 29: 'Travel'}"
      ]
     },
     "execution_count": 105,
     "metadata": {},
     "output_type": "execute_result"
    }
   ],
   "source": [
    "l = []\n",
    "lx = data['Main Genre'].unique()\n",
    "for i in lx:\n",
    "    l.append(i)\n",
    "l\n",
    "dic = {}\n",
    "for i in range(30):\n",
    "    dic[i] = l[i]\n",
    "dic"
   ]
  },
  {
   "cell_type": "code",
   "execution_count": 106,
   "id": "93d24498",
   "metadata": {},
   "outputs": [],
   "source": [
    "t = d['Title'].to_list()\n",
    "a = d['Author'].to_list()\n",
    "s = d['Main Genre'].to_list()\n",
    "r = d['Rating'].to_list()\n",
    "p = []\n",
    "for i in range(0,7907):\n",
    "    l = [t[i], a[i], s[i], r[i]]\n",
    "    p.append(l)\n",
    "l = d['Sub Genre'].unique()\n",
    "f = []\n",
    "for i in l:\n",
    "    f.append(i)"
   ]
  },
  {
   "cell_type": "code",
   "execution_count": 107,
   "id": "f7a9a3bc",
   "metadata": {
    "scrolled": true
   },
   "outputs": [],
   "source": [
    "with open(pkl_file, 'rb') as file:  \n",
    "    model = pickle.load(file) \n",
    "def test(l_ts):\n",
    "    l2 = []\n",
    "    y_pred = model.predict(l_ts)\n",
    "    for i in y_pred:\n",
    "        x1 = i\n",
    "    print(\"Main Genre: \", x1)\n",
    "    for i in range(0, 7907):\n",
    "        #print(p[i][3])\n",
    "        if x1 in p[i][2]:\n",
    "            l2.append([p[i][0], p[i][1], p[i][3]])\n",
    "    return l2"
   ]
  },
  {
   "cell_type": "code",
   "execution_count": 108,
   "id": "e4321e51",
   "metadata": {},
   "outputs": [
    {
     "name": "stdout",
     "output_type": "stream",
     "text": [
      "enter the book name: the godfather\n",
      "enter the genre: classic\n",
      "Main Genre:  Literature & Fiction\n",
      "\n",
      "Suggestion:  1\n",
      "Title:  Man's Search For Meaning: The classic tribute to hope from the Holocaust \n",
      "Author:  Victor E. Frankl \n",
      "Rating:  4.5\n",
      "\n",
      "Suggestion:  2\n",
      "Title:  Metamorphosis \n",
      "Author:  Franz Kafka \n",
      "Rating:  4.5\n",
      "\n",
      "Suggestion:  3\n",
      "Title:  Best of Children’s Classic (Set of 5 Books) : Perfect Gift Set for Kids \n",
      "Author:  Antoine de Saint-Exupéry \n",
      "Rating:  4.4\n",
      "\n",
      "Suggestion:  4\n",
      "Title:  Arthashastra by Kautilya - A Masterpiece on Economic Policies | Ancient Indian Political Philosophy | Hindu Spiritual Wisdom | Timeless Teachings | Practical Guidance | Leadership | Rich Insights from the Vedic Tradition \n",
      "Author:  KAUTILYA \n",
      "Rating:  4.5\n",
      "\n",
      "Suggestion:  5\n",
      "Title:  THE POWER OF YOUR SUBCONSCIOUS MIND \n",
      "Author:  Joseph Murphy \n",
      "Rating:  4.5\n",
      "\n",
      "Suggestion:  6\n",
      "Title:  1984 \n",
      "Author:  George Orwell \n",
      "Rating:  4.5\n",
      "\n",
      "Suggestion:  7\n",
      "Title:  The Time Machine \n",
      "Author:  H. G. Wells \n",
      "Rating:  4.4\n",
      "\n",
      "Suggestion:  8\n",
      "Title:  As a Man Thinketh \n",
      "Author:  James Allen \n",
      "Rating:  4.4\n",
      "\n",
      "Suggestion:  9\n",
      "Title:  Crime And Punishment \n",
      "Author:  Fyodor Dostoyevsky \n",
      "Rating:  4.5\n",
      "\n",
      "Suggestion:  10\n",
      "Title:  The Good Girl's Guide to Murder: Book 1 (A Good Girl?s Guide to Murder) (A Good Girl?s Guide to Murder) \n",
      "Author:  Holly Jackson \n",
      "Rating:  4.6\n"
     ]
    }
   ],
   "source": [
    "book = input(\"enter the book name: \")\n",
    "gen = input(\"enter the genre: \")\n",
    "sent = book + \" \" + gen\n",
    "l_ts = [sent]\n",
    "l3 = test(l_ts)\n",
    "x = 1\n",
    "for j in l3[:10]:\n",
    "    print(\"\\nSuggestion: \",x)\n",
    "    print('Title: ', j[0], '\\nAuthor: ', j[1], '\\nRating: ', j[2])\n",
    "    x+=1"
   ]
  },
  {
   "cell_type": "code",
   "execution_count": null,
   "id": "a83e7333",
   "metadata": {},
   "outputs": [],
   "source": []
  },
  {
   "cell_type": "code",
   "execution_count": null,
   "id": "48f9943a",
   "metadata": {},
   "outputs": [],
   "source": []
  },
  {
   "cell_type": "code",
   "execution_count": null,
   "id": "5277429f",
   "metadata": {},
   "outputs": [],
   "source": []
  },
  {
   "cell_type": "code",
   "execution_count": null,
   "id": "8863b0ed",
   "metadata": {},
   "outputs": [],
   "source": []
  },
  {
   "cell_type": "code",
   "execution_count": null,
   "id": "3374fef7",
   "metadata": {},
   "outputs": [],
   "source": []
  }
 ],
 "metadata": {
  "kernelspec": {
   "display_name": "Python 3 (ipykernel)",
   "language": "python",
   "name": "python3"
  },
  "language_info": {
   "codemirror_mode": {
    "name": "ipython",
    "version": 3
   },
   "file_extension": ".py",
   "mimetype": "text/x-python",
   "name": "python",
   "nbconvert_exporter": "python",
   "pygments_lexer": "ipython3",
   "version": "3.11.5"
  }
 },
 "nbformat": 4,
 "nbformat_minor": 5
}
