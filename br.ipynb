{
 "cells": [
  {
   "cell_type": "code",
   "execution_count": 1,
   "id": "967a6cf3",
   "metadata": {},
   "outputs": [],
   "source": [
    "import pandas as pd\n",
    "import numpy as np"
   ]
  },
  {
   "cell_type": "code",
   "execution_count": 2,
   "id": "c5f27e0b",
   "metadata": {},
   "outputs": [
    {
     "name": "stdout",
     "output_type": "stream",
     "text": [
      "<class 'pandas.core.frame.DataFrame'>\n",
      "RangeIndex: 7928 entries, 0 to 7927\n",
      "Data columns (total 9 columns):\n",
      " #   Column               Non-Null Count  Dtype  \n",
      "---  ------               --------------  -----  \n",
      " 0   Title                7928 non-null   object \n",
      " 1   Author               7907 non-null   object \n",
      " 2   Main Genre           7928 non-null   object \n",
      " 3   Sub Genre            7928 non-null   object \n",
      " 4   Type                 7928 non-null   object \n",
      " 5   Price                7928 non-null   object \n",
      " 6   Rating               7928 non-null   float64\n",
      " 7   No. of People rated  7928 non-null   int64  \n",
      " 8   URLs                 7928 non-null   object \n",
      "dtypes: float64(1), int64(1), object(7)\n",
      "memory usage: 557.6+ KB\n"
     ]
    }
   ],
   "source": [
    "data = pd.read_csv(\"C:\\\\Users\\\\Admin\\\\Desktop\\\\3rd sem\\\\book_recom_sys\\\\initial_dataset.csv\")\n",
    "data.info()"
   ]
  },
  {
   "cell_type": "code",
   "execution_count": 3,
   "id": "d552abaf",
   "metadata": {},
   "outputs": [],
   "source": [
    "from sklearn.model_selection import train_test_split\n",
    "from sklearn.linear_model import LogisticRegression\n",
    "from sklearn.pipeline import Pipeline\n",
    "from sklearn.metrics import accuracy_score,  classification_report, confusion_matrix, ConfusionMatrixDisplay\n",
    "from sklearn.feature_extraction.text import TfidfVectorizer"
   ]
  },
  {
   "cell_type": "code",
   "execution_count": 4,
   "id": "c45de333",
   "metadata": {},
   "outputs": [],
   "source": [
    "#dropping the records with NULL author\n",
    "d = data.dropna()\n",
    "#dropping unwanted fields\n",
    "d = data.drop(['Type'], axis=1)\n",
    "d.to_csv('processed_dataset')"
   ]
  },
  {
   "cell_type": "code",
   "execution_count": 6,
   "id": "ca8663d8",
   "metadata": {},
   "outputs": [
    {
     "data": {
      "text/plain": [
       "array(['The Complete Novel of Sherlock Holmes Cinema & Broadcast',\n",
       "       'Black Holes (L) : The Reith Lectures [Paperback] Hawking, Stephen Cinema & Broadcast',\n",
       "       'The Kite Runner Cinema & Broadcast', ...,\n",
       "       'Eyewitness Travel Phrase Book French (EW Travel Guide Phrase Books) Travel & Holiday Guides',\n",
       "       'Lonely Planet Australia (Travel Guide) Travel & Holiday Guides',\n",
       "       'Political Map of India Latest Map of India With The Two New Union Territories of Jammu and Kashmir And Ladakh 30 Inches X 20 Inches Travel & Holiday Guides'],\n",
       "      dtype=object)"
      ]
     },
     "execution_count": 6,
     "metadata": {},
     "output_type": "execute_result"
    }
   ],
   "source": [
    "#d - is the processed_dataset to be used\n",
    "x = (d['Title'] + \" \" + d['Sub Genre']).values\n",
    "x"
   ]
  },
  {
   "cell_type": "code",
   "execution_count": 7,
   "id": "76c66b29",
   "metadata": {
    "scrolled": true
   },
   "outputs": [
    {
     "data": {
      "text/html": [
       "<style>#sk-container-id-1 {color: black;}#sk-container-id-1 pre{padding: 0;}#sk-container-id-1 div.sk-toggleable {background-color: white;}#sk-container-id-1 label.sk-toggleable__label {cursor: pointer;display: block;width: 100%;margin-bottom: 0;padding: 0.3em;box-sizing: border-box;text-align: center;}#sk-container-id-1 label.sk-toggleable__label-arrow:before {content: \"▸\";float: left;margin-right: 0.25em;color: #696969;}#sk-container-id-1 label.sk-toggleable__label-arrow:hover:before {color: black;}#sk-container-id-1 div.sk-estimator:hover label.sk-toggleable__label-arrow:before {color: black;}#sk-container-id-1 div.sk-toggleable__content {max-height: 0;max-width: 0;overflow: hidden;text-align: left;background-color: #f0f8ff;}#sk-container-id-1 div.sk-toggleable__content pre {margin: 0.2em;color: black;border-radius: 0.25em;background-color: #f0f8ff;}#sk-container-id-1 input.sk-toggleable__control:checked~div.sk-toggleable__content {max-height: 200px;max-width: 100%;overflow: auto;}#sk-container-id-1 input.sk-toggleable__control:checked~label.sk-toggleable__label-arrow:before {content: \"▾\";}#sk-container-id-1 div.sk-estimator input.sk-toggleable__control:checked~label.sk-toggleable__label {background-color: #d4ebff;}#sk-container-id-1 div.sk-label input.sk-toggleable__control:checked~label.sk-toggleable__label {background-color: #d4ebff;}#sk-container-id-1 input.sk-hidden--visually {border: 0;clip: rect(1px 1px 1px 1px);clip: rect(1px, 1px, 1px, 1px);height: 1px;margin: -1px;overflow: hidden;padding: 0;position: absolute;width: 1px;}#sk-container-id-1 div.sk-estimator {font-family: monospace;background-color: #f0f8ff;border: 1px dotted black;border-radius: 0.25em;box-sizing: border-box;margin-bottom: 0.5em;}#sk-container-id-1 div.sk-estimator:hover {background-color: #d4ebff;}#sk-container-id-1 div.sk-parallel-item::after {content: \"\";width: 100%;border-bottom: 1px solid gray;flex-grow: 1;}#sk-container-id-1 div.sk-label:hover label.sk-toggleable__label {background-color: #d4ebff;}#sk-container-id-1 div.sk-serial::before {content: \"\";position: absolute;border-left: 1px solid gray;box-sizing: border-box;top: 0;bottom: 0;left: 50%;z-index: 0;}#sk-container-id-1 div.sk-serial {display: flex;flex-direction: column;align-items: center;background-color: white;padding-right: 0.2em;padding-left: 0.2em;position: relative;}#sk-container-id-1 div.sk-item {position: relative;z-index: 1;}#sk-container-id-1 div.sk-parallel {display: flex;align-items: stretch;justify-content: center;background-color: white;position: relative;}#sk-container-id-1 div.sk-item::before, #sk-container-id-1 div.sk-parallel-item::before {content: \"\";position: absolute;border-left: 1px solid gray;box-sizing: border-box;top: 0;bottom: 0;left: 50%;z-index: -1;}#sk-container-id-1 div.sk-parallel-item {display: flex;flex-direction: column;z-index: 1;position: relative;background-color: white;}#sk-container-id-1 div.sk-parallel-item:first-child::after {align-self: flex-end;width: 50%;}#sk-container-id-1 div.sk-parallel-item:last-child::after {align-self: flex-start;width: 50%;}#sk-container-id-1 div.sk-parallel-item:only-child::after {width: 0;}#sk-container-id-1 div.sk-dashed-wrapped {border: 1px dashed gray;margin: 0 0.4em 0.5em 0.4em;box-sizing: border-box;padding-bottom: 0.4em;background-color: white;}#sk-container-id-1 div.sk-label label {font-family: monospace;font-weight: bold;display: inline-block;line-height: 1.2em;}#sk-container-id-1 div.sk-label-container {text-align: center;}#sk-container-id-1 div.sk-container {/* jupyter's `normalize.less` sets `[hidden] { display: none; }` but bootstrap.min.css set `[hidden] { display: none !important; }` so we also need the `!important` here to be able to override the default hidden behavior on the sphinx rendered scikit-learn.org. See: https://github.com/scikit-learn/scikit-learn/issues/21755 */display: inline-block !important;position: relative;}#sk-container-id-1 div.sk-text-repr-fallback {display: none;}</style><div id=\"sk-container-id-1\" class=\"sk-top-container\"><div class=\"sk-text-repr-fallback\"><pre>Pipeline(steps=[(&#x27;tf_idf&#x27;,\n",
       "                 TfidfVectorizer(max_features=8000, ngram_range=(1, 8),\n",
       "                                 stop_words=&#x27;english&#x27;)),\n",
       "                (&#x27;logit&#x27;,\n",
       "                 LogisticRegression(C=0.5, random_state=55,\n",
       "                                    solver=&#x27;liblinear&#x27;))])</pre><b>In a Jupyter environment, please rerun this cell to show the HTML representation or trust the notebook. <br />On GitHub, the HTML representation is unable to render, please try loading this page with nbviewer.org.</b></div><div class=\"sk-container\" hidden><div class=\"sk-item sk-dashed-wrapped\"><div class=\"sk-label-container\"><div class=\"sk-label sk-toggleable\"><input class=\"sk-toggleable__control sk-hidden--visually\" id=\"sk-estimator-id-1\" type=\"checkbox\" ><label for=\"sk-estimator-id-1\" class=\"sk-toggleable__label sk-toggleable__label-arrow\">Pipeline</label><div class=\"sk-toggleable__content\"><pre>Pipeline(steps=[(&#x27;tf_idf&#x27;,\n",
       "                 TfidfVectorizer(max_features=8000, ngram_range=(1, 8),\n",
       "                                 stop_words=&#x27;english&#x27;)),\n",
       "                (&#x27;logit&#x27;,\n",
       "                 LogisticRegression(C=0.5, random_state=55,\n",
       "                                    solver=&#x27;liblinear&#x27;))])</pre></div></div></div><div class=\"sk-serial\"><div class=\"sk-item\"><div class=\"sk-estimator sk-toggleable\"><input class=\"sk-toggleable__control sk-hidden--visually\" id=\"sk-estimator-id-2\" type=\"checkbox\" ><label for=\"sk-estimator-id-2\" class=\"sk-toggleable__label sk-toggleable__label-arrow\">TfidfVectorizer</label><div class=\"sk-toggleable__content\"><pre>TfidfVectorizer(max_features=8000, ngram_range=(1, 8), stop_words=&#x27;english&#x27;)</pre></div></div></div><div class=\"sk-item\"><div class=\"sk-estimator sk-toggleable\"><input class=\"sk-toggleable__control sk-hidden--visually\" id=\"sk-estimator-id-3\" type=\"checkbox\" ><label for=\"sk-estimator-id-3\" class=\"sk-toggleable__label sk-toggleable__label-arrow\">LogisticRegression</label><div class=\"sk-toggleable__content\"><pre>LogisticRegression(C=0.5, random_state=55, solver=&#x27;liblinear&#x27;)</pre></div></div></div></div></div></div></div>"
      ],
      "text/plain": [
       "Pipeline(steps=[('tf_idf',\n",
       "                 TfidfVectorizer(max_features=8000, ngram_range=(1, 8),\n",
       "                                 stop_words='english')),\n",
       "                ('logit',\n",
       "                 LogisticRegression(C=0.5, random_state=55,\n",
       "                                    solver='liblinear'))])"
      ]
     },
     "execution_count": 7,
     "metadata": {},
     "output_type": "execute_result"
    }
   ],
   "source": [
    "#pipeline_creation\n",
    "\n",
    "tf_idf = TfidfVectorizer(stop_words = 'english', ngram_range = (1, 8), max_features = 8000)\n",
    "x_tr, x_ts, y_tr, y_ts = train_test_split(x, d['Main Genre'])\n",
    "logit = LogisticRegression(C = 0.5 , penalty = 'l2', solver = 'liblinear', random_state = 55)\n",
    "pipe = Pipeline([('tf_idf', tf_idf), ('logit', logit)])\n",
    "pipe.fit(x_tr, y_tr)"
   ]
  },
  {
   "cell_type": "code",
   "execution_count": 8,
   "id": "45b24744",
   "metadata": {},
   "outputs": [
    {
     "data": {
      "text/plain": [
       "array(['The Secret Garden : Illustrated Abridged Children Classic English Novel with Review Questions (Hardback): Abridged and Illustrated (Illustrated Classics) Fairy Tales, Folk Tales & Myths',\n",
       "       'The Age of Pandemics (18171920) : How They Shaped India and the World Research',\n",
       "       'The Kingpin: A Dark Mafia Romance (Savage Empire Book 1) Action & Adventure',\n",
       "       ...,\n",
       "       'Illustration collection of a girl playing table tennis with a burning passion (Japanese Edition) Pool, Billiards & Snooker',\n",
       "       'Harry Potter and the Order of the Phoenix, Book 5 Fantasy',\n",
       "       'Karate Terminology Combat Sports & Self-Defence'], dtype=object)"
      ]
     },
     "execution_count": 8,
     "metadata": {},
     "output_type": "execute_result"
    }
   ],
   "source": [
    "x_ts"
   ]
  },
  {
   "cell_type": "code",
   "execution_count": 9,
   "id": "79caa526",
   "metadata": {},
   "outputs": [
    {
     "data": {
      "text/plain": [
       "array([\"Children's Books\", 'Medicine & Health Sciences', 'Romance', ...,\n",
       "       'Sports', \"Children's Books\", 'Sports'], dtype=object)"
      ]
     },
     "execution_count": 9,
     "metadata": {},
     "output_type": "execute_result"
    }
   ],
   "source": [
    "y_pred = pipe.predict(x_ts)\n",
    "y_pred"
   ]
  },
  {
   "cell_type": "code",
   "execution_count": 10,
   "id": "5e74939c",
   "metadata": {},
   "outputs": [
    {
     "name": "stdout",
     "output_type": "stream",
     "text": [
      "accuracy:  0.8945509586276489\n",
      "\n",
      "classification report:                                         precision    recall  f1-score   support\n",
      "\n",
      "             Arts, Film & Photography       1.00      0.92      0.96        52\n",
      " Biographies, Diaries & True Accounts       0.56      0.86      0.68        22\n",
      "                 Business & Economics       1.00      0.79      0.89        39\n",
      "                     Children's Books       0.78      0.97      0.87       392\n",
      "                      Comics & Mangas       1.00      0.81      0.90        27\n",
      "  Computing, Internet & Digital Media       0.93      0.98      0.95        90\n",
      "             Crafts, Home & Lifestyle       1.00      0.93      0.96        72\n",
      "            Crime, Thriller & Mystery       1.00      0.92      0.96        13\n",
      "                          Engineering       1.00      1.00      1.00        16\n",
      "                     Exam Preparation       0.98      1.00      0.99        49\n",
      "    Fantasy, Horror & Science Fiction       1.00      0.23      0.38        30\n",
      "Health, Family & Personal Development       0.95      0.95      0.95        21\n",
      "           Higher Education Textbooks       0.93      0.81      0.86        47\n",
      "                              History       1.00      0.28      0.44        32\n",
      "      Language, Linguistics & Writing       1.00      0.67      0.80        12\n",
      "                                  Law       1.00      0.79      0.88        14\n",
      "                 Literature & Fiction       0.89      0.89      0.89        73\n",
      "           Medicine & Health Sciences       1.00      0.92      0.96        50\n",
      "                             Politics       0.97      0.97      0.97        39\n",
      "                            Reference       1.00      0.78      0.88        46\n",
      "                             Religion       1.00      0.92      0.96        77\n",
      "                              Romance       0.89      0.99      0.94       280\n",
      "                         School Books       1.00      1.00      1.00        23\n",
      "                Science & Mathematics       0.85      0.31      0.45        36\n",
      "      Sciences, Technology & Medicine       0.62      0.79      0.70        48\n",
      "            Society & Social Sciences       1.00      0.96      0.98        55\n",
      "                               Sports       0.99      0.98      0.98       221\n",
      "                   Teen & Young Adult       0.93      0.60      0.73        86\n",
      "             Textbooks & Study Guides       1.00      1.00      1.00         8\n",
      "                               Travel       1.00      0.92      0.96        12\n",
      "\n",
      "                             accuracy                           0.89      1982\n",
      "                            macro avg       0.94      0.83      0.86      1982\n",
      "                         weighted avg       0.91      0.89      0.89      1982\n",
      "\n"
     ]
    }
   ],
   "source": [
    "acc = accuracy_score(y_ts, y_pred)\n",
    "clasf = classification_report(y_ts, y_pred)\n",
    "\n",
    "print(\"accuracy: \", acc)\n",
    "print(\"\\nclassification report: \", clasf)"
   ]
  },
  {
   "cell_type": "code",
   "execution_count": 11,
   "id": "d4a2c213",
   "metadata": {},
   "outputs": [],
   "source": [
    "import pickle\n",
    "pkl_file = \"br.pkl\"  \n",
    "\n",
    "with open(pkl_file, 'wb') as file:  \n",
    "    pickle.dump(pipe, file)"
   ]
  },
  {
   "cell_type": "code",
   "execution_count": 12,
   "id": "d2934226",
   "metadata": {},
   "outputs": [
    {
     "data": {
      "text/html": [
       "<div>\n",
       "<style scoped>\n",
       "    .dataframe tbody tr th:only-of-type {\n",
       "        vertical-align: middle;\n",
       "    }\n",
       "\n",
       "    .dataframe tbody tr th {\n",
       "        vertical-align: top;\n",
       "    }\n",
       "\n",
       "    .dataframe thead th {\n",
       "        text-align: right;\n",
       "    }\n",
       "</style>\n",
       "<table border=\"1\" class=\"dataframe\">\n",
       "  <thead>\n",
       "    <tr style=\"text-align: right;\">\n",
       "      <th></th>\n",
       "      <th></th>\n",
       "      <th>Title</th>\n",
       "      <th>Author</th>\n",
       "      <th>Price</th>\n",
       "      <th>Rating</th>\n",
       "      <th>No. of People rated</th>\n",
       "      <th>URLs</th>\n",
       "    </tr>\n",
       "    <tr>\n",
       "      <th>Main Genre</th>\n",
       "      <th>Sub Genre</th>\n",
       "      <th></th>\n",
       "      <th></th>\n",
       "      <th></th>\n",
       "      <th></th>\n",
       "      <th></th>\n",
       "      <th></th>\n",
       "    </tr>\n",
       "  </thead>\n",
       "  <tbody>\n",
       "    <tr>\n",
       "      <th rowspan=\"4\" valign=\"top\">Arts, Film &amp; Photography</th>\n",
       "      <th>Cinema &amp; Broadcast</th>\n",
       "      <td>50</td>\n",
       "      <td>50</td>\n",
       "      <td>50</td>\n",
       "      <td>50</td>\n",
       "      <td>50</td>\n",
       "      <td>50</td>\n",
       "    </tr>\n",
       "    <tr>\n",
       "      <th>Music</th>\n",
       "      <td>50</td>\n",
       "      <td>50</td>\n",
       "      <td>50</td>\n",
       "      <td>50</td>\n",
       "      <td>50</td>\n",
       "      <td>50</td>\n",
       "    </tr>\n",
       "    <tr>\n",
       "      <th>Theater &amp; Ballet</th>\n",
       "      <td>50</td>\n",
       "      <td>50</td>\n",
       "      <td>50</td>\n",
       "      <td>50</td>\n",
       "      <td>50</td>\n",
       "      <td>50</td>\n",
       "    </tr>\n",
       "    <tr>\n",
       "      <th>Theory &amp; Criticism</th>\n",
       "      <td>50</td>\n",
       "      <td>50</td>\n",
       "      <td>50</td>\n",
       "      <td>50</td>\n",
       "      <td>50</td>\n",
       "      <td>50</td>\n",
       "    </tr>\n",
       "    <tr>\n",
       "      <th>Biographies, Diaries &amp; True Accounts</th>\n",
       "      <th>Biographies &amp; Autobiographies</th>\n",
       "      <td>50</td>\n",
       "      <td>50</td>\n",
       "      <td>50</td>\n",
       "      <td>50</td>\n",
       "      <td>50</td>\n",
       "      <td>50</td>\n",
       "    </tr>\n",
       "    <tr>\n",
       "      <th>...</th>\n",
       "      <th>...</th>\n",
       "      <td>...</td>\n",
       "      <td>...</td>\n",
       "      <td>...</td>\n",
       "      <td>...</td>\n",
       "      <td>...</td>\n",
       "      <td>...</td>\n",
       "    </tr>\n",
       "    <tr>\n",
       "      <th rowspan=\"3\" valign=\"top\">Teen &amp; Young Adult</th>\n",
       "      <th>Romance</th>\n",
       "      <td>50</td>\n",
       "      <td>49</td>\n",
       "      <td>50</td>\n",
       "      <td>50</td>\n",
       "      <td>50</td>\n",
       "      <td>50</td>\n",
       "    </tr>\n",
       "    <tr>\n",
       "      <th>Science Fiction &amp; Fantasy</th>\n",
       "      <td>50</td>\n",
       "      <td>50</td>\n",
       "      <td>50</td>\n",
       "      <td>50</td>\n",
       "      <td>50</td>\n",
       "      <td>50</td>\n",
       "    </tr>\n",
       "    <tr>\n",
       "      <th>Social &amp; Family Issues</th>\n",
       "      <td>50</td>\n",
       "      <td>50</td>\n",
       "      <td>50</td>\n",
       "      <td>50</td>\n",
       "      <td>50</td>\n",
       "      <td>50</td>\n",
       "    </tr>\n",
       "    <tr>\n",
       "      <th>Textbooks &amp; Study Guides</th>\n",
       "      <th>Study Guides &amp; Workbooks</th>\n",
       "      <td>50</td>\n",
       "      <td>50</td>\n",
       "      <td>50</td>\n",
       "      <td>50</td>\n",
       "      <td>50</td>\n",
       "      <td>50</td>\n",
       "    </tr>\n",
       "    <tr>\n",
       "      <th>Travel</th>\n",
       "      <th>Travel &amp; Holiday Guides</th>\n",
       "      <td>50</td>\n",
       "      <td>50</td>\n",
       "      <td>50</td>\n",
       "      <td>50</td>\n",
       "      <td>50</td>\n",
       "      <td>50</td>\n",
       "    </tr>\n",
       "  </tbody>\n",
       "</table>\n",
       "<p>161 rows × 6 columns</p>\n",
       "</div>"
      ],
      "text/plain": [
       "                                                                    Title  \\\n",
       "Main Genre                           Sub Genre                              \n",
       "Arts, Film & Photography             Cinema & Broadcast                50   \n",
       "                                     Music                             50   \n",
       "                                     Theater & Ballet                  50   \n",
       "                                     Theory & Criticism                50   \n",
       "Biographies, Diaries & True Accounts Biographies & Autobiographies     50   \n",
       "...                                                                   ...   \n",
       "Teen & Young Adult                   Romance                           50   \n",
       "                                     Science Fiction & Fantasy         50   \n",
       "                                     Social & Family Issues            50   \n",
       "Textbooks & Study Guides             Study Guides & Workbooks          50   \n",
       "Travel                               Travel & Holiday Guides           50   \n",
       "\n",
       "                                                                    Author  \\\n",
       "Main Genre                           Sub Genre                               \n",
       "Arts, Film & Photography             Cinema & Broadcast                 50   \n",
       "                                     Music                              50   \n",
       "                                     Theater & Ballet                   50   \n",
       "                                     Theory & Criticism                 50   \n",
       "Biographies, Diaries & True Accounts Biographies & Autobiographies      50   \n",
       "...                                                                    ...   \n",
       "Teen & Young Adult                   Romance                            49   \n",
       "                                     Science Fiction & Fantasy          50   \n",
       "                                     Social & Family Issues             50   \n",
       "Textbooks & Study Guides             Study Guides & Workbooks           50   \n",
       "Travel                               Travel & Holiday Guides            50   \n",
       "\n",
       "                                                                    Price  \\\n",
       "Main Genre                           Sub Genre                              \n",
       "Arts, Film & Photography             Cinema & Broadcast                50   \n",
       "                                     Music                             50   \n",
       "                                     Theater & Ballet                  50   \n",
       "                                     Theory & Criticism                50   \n",
       "Biographies, Diaries & True Accounts Biographies & Autobiographies     50   \n",
       "...                                                                   ...   \n",
       "Teen & Young Adult                   Romance                           50   \n",
       "                                     Science Fiction & Fantasy         50   \n",
       "                                     Social & Family Issues            50   \n",
       "Textbooks & Study Guides             Study Guides & Workbooks          50   \n",
       "Travel                               Travel & Holiday Guides           50   \n",
       "\n",
       "                                                                    Rating  \\\n",
       "Main Genre                           Sub Genre                               \n",
       "Arts, Film & Photography             Cinema & Broadcast                 50   \n",
       "                                     Music                              50   \n",
       "                                     Theater & Ballet                   50   \n",
       "                                     Theory & Criticism                 50   \n",
       "Biographies, Diaries & True Accounts Biographies & Autobiographies      50   \n",
       "...                                                                    ...   \n",
       "Teen & Young Adult                   Romance                            50   \n",
       "                                     Science Fiction & Fantasy          50   \n",
       "                                     Social & Family Issues             50   \n",
       "Textbooks & Study Guides             Study Guides & Workbooks           50   \n",
       "Travel                               Travel & Holiday Guides            50   \n",
       "\n",
       "                                                                    No. of People rated  \\\n",
       "Main Genre                           Sub Genre                                            \n",
       "Arts, Film & Photography             Cinema & Broadcast                              50   \n",
       "                                     Music                                           50   \n",
       "                                     Theater & Ballet                                50   \n",
       "                                     Theory & Criticism                              50   \n",
       "Biographies, Diaries & True Accounts Biographies & Autobiographies                   50   \n",
       "...                                                                                 ...   \n",
       "Teen & Young Adult                   Romance                                         50   \n",
       "                                     Science Fiction & Fantasy                       50   \n",
       "                                     Social & Family Issues                          50   \n",
       "Textbooks & Study Guides             Study Guides & Workbooks                        50   \n",
       "Travel                               Travel & Holiday Guides                         50   \n",
       "\n",
       "                                                                    URLs  \n",
       "Main Genre                           Sub Genre                            \n",
       "Arts, Film & Photography             Cinema & Broadcast               50  \n",
       "                                     Music                            50  \n",
       "                                     Theater & Ballet                 50  \n",
       "                                     Theory & Criticism               50  \n",
       "Biographies, Diaries & True Accounts Biographies & Autobiographies    50  \n",
       "...                                                                  ...  \n",
       "Teen & Young Adult                   Romance                          50  \n",
       "                                     Science Fiction & Fantasy        50  \n",
       "                                     Social & Family Issues           50  \n",
       "Textbooks & Study Guides             Study Guides & Workbooks         50  \n",
       "Travel                               Travel & Holiday Guides          50  \n",
       "\n",
       "[161 rows x 6 columns]"
      ]
     },
     "execution_count": 12,
     "metadata": {},
     "output_type": "execute_result"
    }
   ],
   "source": [
    "d2 = d.groupby(['Main Genre', 'Sub Genre']).count()\n",
    "d2.to_csv('grouped data br.csv')\n",
    "d2"
   ]
  },
  {
   "cell_type": "code",
   "execution_count": 13,
   "id": "17b31120",
   "metadata": {},
   "outputs": [
    {
     "data": {
      "text/plain": [
       "{0: 'Arts, Film & Photography',\n",
       " 1: 'Biographies, Diaries & True Accounts',\n",
       " 2: 'Business & Economics',\n",
       " 3: \"Children's Books\",\n",
       " 4: 'Comics & Mangas',\n",
       " 5: 'Computing, Internet & Digital Media',\n",
       " 6: 'Crafts, Home & Lifestyle',\n",
       " 7: 'Crime, Thriller & Mystery',\n",
       " 8: 'Engineering',\n",
       " 9: 'Exam Preparation',\n",
       " 10: 'Fantasy, Horror & Science Fiction',\n",
       " 11: 'Health, Family & Personal Development',\n",
       " 12: 'Higher Education Textbooks',\n",
       " 13: 'History',\n",
       " 14: 'Language, Linguistics & Writing',\n",
       " 15: 'Law',\n",
       " 16: 'Literature & Fiction',\n",
       " 17: 'Medicine & Health Sciences',\n",
       " 18: 'Politics',\n",
       " 19: 'Reference',\n",
       " 20: 'Religion',\n",
       " 21: 'Romance',\n",
       " 22: 'School Books',\n",
       " 23: 'Science & Mathematics',\n",
       " 24: 'Sciences, Technology & Medicine',\n",
       " 25: 'Society & Social Sciences',\n",
       " 26: 'Sports',\n",
       " 27: 'Teen & Young Adult',\n",
       " 28: 'Textbooks & Study Guides',\n",
       " 29: 'Travel'}"
      ]
     },
     "execution_count": 13,
     "metadata": {},
     "output_type": "execute_result"
    }
   ],
   "source": [
    "l = []\n",
    "lx = data['Main Genre'].unique()\n",
    "for i in lx:\n",
    "    l.append(i)\n",
    "l\n",
    "dic = {}\n",
    "for i in range(30):\n",
    "    dic[i] = l[i]\n",
    "dic"
   ]
  },
  {
   "cell_type": "code",
   "execution_count": 14,
   "id": "93d24498",
   "metadata": {},
   "outputs": [],
   "source": [
    "t = d['Title'].to_list()\n",
    "a = d['Author'].to_list()\n",
    "r = d['Rating'].to_list()\n",
    "pr = d['Price'].to_list()\n",
    "w = d['URLs'].to_list()\n",
    "m = d['Main Genre'].to_list()\n",
    "s = d['Sub Genre'].to_list()\n",
    "p = []\n",
    "for i in range(0,7907):\n",
    "    l = [t[i], a[i], m[i], s[i], r[i], pr[i], w[i]]\n",
    "    p.append(l)\n",
    "l = d['Sub Genre'].unique()\n",
    "f = []\n",
    "for i in l:\n",
    "    f.append(i)"
   ]
  },
  {
   "cell_type": "code",
   "execution_count": 52,
   "id": "f7a9a3bc",
   "metadata": {
    "scrolled": true
   },
   "outputs": [],
   "source": [
    "import time\n",
    "with open(pkl_file, 'rb') as file:  \n",
    "    model = pickle.load(file) \n",
    "def test(l_ts):\n",
    "    l2 = []\n",
    "    y_pred = model.predict(l_ts)\n",
    "    for k in y_pred:\n",
    "        x1 = k\n",
    "    n = np.array(p)\n",
    "    ind = n[:, 2] == x1\n",
    "    res = n[ind]\n",
    "    return res\n"
   ]
  },
  {
   "cell_type": "code",
   "execution_count": 54,
   "id": "e4321e51",
   "metadata": {
    "scrolled": true
   },
   "outputs": [
    {
     "name": "stdout",
     "output_type": "stream",
     "text": [
      "enter the book name: the godfather\n",
      "enter the genre: classic\n",
      "For loop time: 0.16472220420837402\n",
      "\n",
      "Suggestion:  1\n",
      "Title:  INTERFAITH - 2 \n",
      "Author:  VIDHYA SOOD \n",
      "Main Genre:  Literature & Fiction \n",
      "Sub Genre:  Crime, Thriller & Mystery \n",
      "Rating:  5.0 \n",
      "Price:  ₹449.00 \n",
      "URL:  https://www.amazon.in/INTERFAITH-2-VIDHYA-SOOD-ebook/dp/B0CPD6XBRD/ref=zg_bs_g_1318161031_d_sccl_17/000-0000000-0000000?psc=1\n",
      "\n",
      "Suggestion:  2\n",
      "Title:  Har Din Lakshya Ki Oar \n",
      "Author:  Luke Coutinho/लूक कुटिन्हो \n",
      "Main Genre:  Literature & Fiction \n",
      "Sub Genre:  Essays \n",
      "Rating:  5.0 \n",
      "Price:  ₹150.00 \n",
      "URL:  https://www.amazon.in/Har-Din-Lakshya-Ki-Oar/dp/0143464256/ref=zg_bs_g_1318172031_d_sccl_28/000-0000000-0000000?psc=1\n",
      "\n",
      "Suggestion:  3\n",
      "Title:  Once Upon a Time in KREC: Mirthful Musings of '81 \n",
      "Author:  Padmanand Warrier \n",
      "Main Genre:  Literature & Fiction \n",
      "Sub Genre:  Humour \n",
      "Rating:  5.0 \n",
      "Price:  ₹165.00 \n",
      "URL:  https://www.amazon.in/Once-Upon-Time-KREC-Mirthful-ebook/dp/B0CSDP1RVQ/ref=zg_bs_g_1318143031_d_sccl_10/000-0000000-0000000?psc=1\n",
      "\n",
      "Suggestion:  4\n",
      "Title:  I Don't Love You Anymore: Moving On & Living Your Best Life \n",
      "Author:  Rithvik Singh \n",
      "Main Genre:  Literature & Fiction \n",
      "Sub Genre:  Poetry \n",
      "Rating:  5.0 \n",
      "Price:  ₹299.00 \n",
      "URL:  https://www.amazon.in/Dont-Love-You-Anymore-Moving/dp/B0CVL5F3KW/ref=zg_bs_g_1318175031_d_sccl_1/000-0000000-0000000?psc=1\n",
      "\n",
      "Suggestion:  5\n",
      "Title:  Faaslay: A collection of nazms \n",
      "Author:  Tauseef Ali \n",
      "Main Genre:  Literature & Fiction \n",
      "Sub Genre:  Poetry \n",
      "Rating:  5.0 \n",
      "Price:  ₹240.00 \n",
      "URL:  https://www.amazon.in/Faaslay-collection-nazms-Tauseef-Ali/dp/B0CVQDMP68/ref=zg_bs_g_1318175031_d_sccl_20/000-0000000-0000000?psc=1\n",
      "\n",
      "Suggestion:  6\n",
      "Title:  How to Love in Sanskrit: Poems \n",
      "Author:  Anusha Rao \n",
      "Main Genre:  Literature & Fiction \n",
      "Sub Genre:  Poetry \n",
      "Rating:  5.0 \n",
      "Price:  ₹465.00 \n",
      "URL:  https://www.amazon.in/How-Love-Sanskrit-Anusha-Rao/dp/9356999805/ref=zg_bs_g_1318175031_d_sccl_30/000-0000000-0000000?psc=1\n",
      "\n",
      "Suggestion:  7\n",
      "Title:  Musings of the Uninitiated \n",
      "Author:  Aimi Hodiwala Rale \n",
      "Main Genre:  Literature & Fiction \n",
      "Sub Genre:  Poetry \n",
      "Rating:  5.0 \n",
      "Price:  ₹150.00 \n",
      "URL:  https://www.amazon.in/Musings-Uninitiated-Aimi-Hodiwala-Rale/dp/9358319658/ref=zg_bs_g_1318175031_d_sccl_12/000-0000000-0000000?psc=1\n",
      "\n",
      "Suggestion:  8\n",
      "Title:  Gabbilam : A Dalit Epic \n",
      "Author:  Chinnaiah Jangam \n",
      "Main Genre:  Literature & Fiction \n",
      "Sub Genre:  Poetry \n",
      "Rating:  4.9 \n",
      "Price:  ₹235.00 \n",
      "URL:  https://www.amazon.in/Gabbilam-Dalit-Epic-Chinnaiah-Jangam/dp/9382579362/ref=zg_bs_g_1318175031_d_sccl_18/000-0000000-0000000?psc=1\n",
      "\n",
      "Suggestion:  9\n",
      "Title:  Ishq Baghawat । Ishq Bagawat । इश्क़ बग़ावत [ Ritesh Rajwada / रितेश रजवाड़ा ] \n",
      "Author:  Ritesh Rajwada \n",
      "Main Genre:  Literature & Fiction \n",
      "Sub Genre:  Poetry \n",
      "Rating:  4.9 \n",
      "Price:  ₹170.00 \n",
      "URL:  https://www.amazon.in/Baghawat-Bagawat-%E0%A4%AC%E0%A4%97%E0%A4%BC%E0%A4%BE%E0%A4%B5%E0%A4%A4-Rajwada-%E0%A4%B0%E0%A4%9C%E0%A4%B5%E0%A4%BE%E0%A4%A1%E0%A4%BC%E0%A4%BE/dp/9392820968/ref=zg_bs_g_1318175031_d_sccl_20/000-0000000-0000000?psc=1\n",
      "\n",
      "Suggestion:  10\n",
      "Title:  Harry Potter and the Prisoner of Azkaban \n",
      "Author:  J.K. Rowling \n",
      "Main Genre:  Literature & Fiction \n",
      "Sub Genre:  Fantasy, Horror & Science Fiction \n",
      "Rating:  4.8 \n",
      "Price:  ₹212.80 \n",
      "URL:  https://www.amazon.in/Harry-Potter-Prisoner-Azkaban-Rowling-ebook/dp/B019PIOJZ4/ref=zg_bs_g_1402038031_d_sccl_9/000-0000000-0000000?psc=1\n"
     ]
    }
   ],
   "source": [
    "book = input(\"enter the book name: \")\n",
    "gen = input(\"enter the genre: \")\n",
    "sent = book + \" \" + gen\n",
    "l_ts = [sent]\n",
    "l2 = []\n",
    "x = 1\n",
    "\n",
    "l3 = test(l_ts)\n",
    "sl= sorted(l3, key = lambda x: x[4], reverse = True)\n",
    "for j in sl[:10]:\n",
    "    print(\"\\nSuggestion: \",x) \n",
    "    x += 1\n",
    "    print('Title: ', j[0], '\\nAuthor: ', j[1], '\\nMain Genre: ', j[2], '\\nSub Genre: ', j[3], '\\nRating: ', j[4], '\\nPrice: ', j[5], '\\nURL: ', j[6])"
   ]
  },
  {
   "cell_type": "code",
   "execution_count": 30,
   "id": "a83e7333",
   "metadata": {},
   "outputs": [
    {
     "name": "stdout",
     "output_type": "stream",
     "text": [
      "For loop time: 0.028673887252807617\n"
     ]
    }
   ],
   "source": [
    "import time\n",
    "start = time.time()\n",
    "for k in y_pred:\n",
    "    x1 = k\n",
    "for i in range(0, 7907):\n",
    "    #print(p[i][3])\n",
    "    if  p[i][2] == x1:\n",
    "        l2.append([p[i][0], p[i][1], p[i][2], p[i][3], p[i][4], p[i][5], p[i][6]])\n",
    "end = time.time()\n",
    "print(\"For loop time:\", end - start)\n"
   ]
  },
  {
   "cell_type": "code",
   "execution_count": 51,
   "id": "48f9943a",
   "metadata": {},
   "outputs": [
    {
     "name": "stdout",
     "output_type": "stream",
     "text": [
      "[[\"Man's Search For Meaning: The classic tribute to hope from the Holocaust\"\n",
      "  'Victor E. Frankl' 'Literature & Fiction' ... '4.5' '₹206.00'\n",
      "  'https://www.amazon.in/Mans-Search-Meaning-Viktor-Frankl/dp/1846041244/ref=zg_bs_g_1318159031_d_sccl_1/000-0000000-0000000?psc=1']\n",
      " ['Metamorphosis' 'Franz Kafka' 'Literature & Fiction' ... '4.5' '₹89.00'\n",
      "  'https://www.amazon.in/Metamorphosis-Franz-Kafka/dp/8172345135/ref=zg_bs_g_1318159031_d_sccl_2/000-0000000-0000000?psc=1']\n",
      " ['Best of Children’s Classic (Set of 5 Books) : Perfect Gift Set for Kids'\n",
      "  'Antoine de Saint-Exupéry' 'Literature & Fiction' ... '4.4' '₹499.00'\n",
      "  'https://www.amazon.in/Best-Childrens-Classics-Set-Books/dp/9389432006/ref=zg_bs_g_1318159031_d_sccl_3/000-0000000-0000000?psc=1']\n",
      " ...\n",
      " ['Theek Tumhare Peechhe - Hindi' 'Manav Kaul' 'Literature & Fiction' ...\n",
      "  '4.3' '₹130.00'\n",
      "  'https://www.amazon.in/Theek-Tumhare-Peechhe-Manav-Kaul/dp/9384419400/ref=zg_bs_g_1318170031_d_sccl_18/000-0000000-0000000?psc=1']\n",
      " ['Melt Into Me (The Goel Heir Book 2)' 'Adhiti Aravind'\n",
      "  'Literature & Fiction' ... '4.5' '₹99.00'\n",
      "  'https://www.amazon.in/Melt-Into-Goel-Heir-Book-ebook/dp/B0C14GBZ1B/ref=zg_bs_g_1318170031_d_sccl_19/000-0000000-0000000?psc=1']\n",
      " ['The Day I Stopped Drinking Milk : Life Lessons From Here And There'\n",
      "  'Sudha Murty' 'Literature & Fiction' ... '4.4' '₹194.00'\n",
      "  'https://www.amazon.in/Day-Stopped-Drinking-Milk-Stories/dp/0143418653/ref=zg_bs_g_1318170031_d_sccl_20/000-0000000-0000000?psc=1']]\n"
     ]
    }
   ],
   "source": [
    "print(l3)"
   ]
  },
  {
   "cell_type": "code",
   "execution_count": 34,
   "id": "5277429f",
   "metadata": {},
   "outputs": [
    {
     "name": "stdout",
     "output_type": "stream",
     "text": [
      "For loop time: 0.25217413902282715\n"
     ]
    }
   ],
   "source": [
    "    for k in y_pred:\n",
    "        x1 = k\n",
    "    \n",
    "    start = time.time()\n",
    "    n = np.array([p])\n",
    "    l2 = [j for i in n for j in i if j[2] == x1]\n",
    "    end = time.time()\n",
    "    print(\"For loop time:\", end - start)\n",
    "    "
   ]
  },
  {
   "cell_type": "code",
   "execution_count": 40,
   "id": "8863b0ed",
   "metadata": {
    "scrolled": true
   },
   "outputs": [
    {
     "name": "stdout",
     "output_type": "stream",
     "text": [
      "[False False False ... False False False]\n",
      "[['What I Talk About When I Talk About Running' 'Haruki Murakami'\n",
      "  'Sports' ... '4.4' '₹344.00'\n",
      "  'https://www.amazon.in/What-Talk-About-When-Running/dp/0099526158/ref=zg_bs_g_1318225031_d_sccl_1/000-0000000-0000000?psc=1']\n",
      " [\"The Champion's Mind: How Great Athletes Think, Train, and Thrive\"\n",
      "  'Jim Afremow' 'Sports' ... '4.6' '₹464.34'\n",
      "  'https://www.amazon.in/Champions-Mind-Great-Athletes-Thrive/dp/1623365627/ref=zg_bs_g_1318225031_d_sccl_2/000-0000000-0000000?psc=1']\n",
      " ['Seven Years In Tibet' 'Heinrich Harrer' 'Sports' ... '4.7' '₹340.00'\n",
      "  'https://www.amazon.in/Seven-Years-Tibet-Heinrich-Harrer/dp/0586087079/ref=zg_bs_g_1318225031_d_sccl_3/000-0000000-0000000?psc=1']\n",
      " ...\n",
      " ['Knight of the Ice 11' 'Yayoi Ogawa' 'Sports' ... '4.5' '₹277.63'\n",
      "  'https://www.amazon.in/Knight-Ice-11-Yayoi-Ogawa/dp/1646510887/ref=zg_bs_g_1318289031_d_sccl_18/000-0000000-0000000?psc=1']\n",
      " ['Nodus Tollens: A Sad Hockey Romance (Nodus Tollens Duet Book 1)'\n",
      "  'Remi  Rose' 'Sports' ... '4.3' '₹332.00'\n",
      "  'https://www.amazon.in/Nodus-Tollens-Hockey-Romance-Duet-ebook/dp/B0CKCJPMNH/ref=zg_bs_g_1318289031_d_sccl_19/000-0000000-0000000?psc=1']\n",
      " ['Glacier Mountaineering: An Illustrated Guide to Glacier Travel and Crevasse Rescue (How To Climb Series)'\n",
      "  'Andy Tyson' 'Sports' ... '4.7' '₹1,050.70'\n",
      "  'https://www.amazon.in/Glacier-Mountaineering-Illustrated-Travel-Crevasse-ebook/dp/B012A1WD9C/ref=zg_bs_g_1318289031_d_sccl_20/000-0000000-0000000?psc=1']]\n"
     ]
    }
   ],
   "source": [
    "for k in y_pred:\n",
    "    x1 = k\n",
    "n = np.array(p)\n",
    "ind = n[:, 2] == x1\n",
    "res = n[ind]\n",
    "print(ind)\n",
    "print(res)"
   ]
  },
  {
   "cell_type": "code",
   "execution_count": null,
   "id": "3374fef7",
   "metadata": {},
   "outputs": [],
   "source": []
  }
 ],
 "metadata": {
  "kernelspec": {
   "display_name": "Python 3 (ipykernel)",
   "language": "python",
   "name": "python3"
  },
  "language_info": {
   "codemirror_mode": {
    "name": "ipython",
    "version": 3
   },
   "file_extension": ".py",
   "mimetype": "text/x-python",
   "name": "python",
   "nbconvert_exporter": "python",
   "pygments_lexer": "ipython3",
   "version": "3.11.5"
  }
 },
 "nbformat": 4,
 "nbformat_minor": 5
}
